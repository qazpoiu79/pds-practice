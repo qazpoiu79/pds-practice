{
  "nbformat": 4,
  "nbformat_minor": 0,
  "metadata": {
    "colab": {
      "name": "nv_shppng_nrmlz.ipynb",
      "provenance": [],
      "collapsed_sections": [],
      "mount_file_id": "1EBxqhNlyuXjGi5jpfz7XbbkNEjJiVZeK",
      "authorship_tag": "ABX9TyOSwXmgSHrhvlyfFm1XrCtZ",
      "include_colab_link": true
    },
    "kernelspec": {
      "name": "python3",
      "display_name": "Python 3"
    },
    "language_info": {
      "name": "python"
    }
  },
  "cells": [
    {
      "cell_type": "markdown",
      "metadata": {
        "id": "view-in-github",
        "colab_type": "text"
      },
      "source": [
        "<a href=\"https://colab.research.google.com/github/qazpoiu79/pds-practice/blob/NAVER_SHOPPING/nv_shppng_nrmlz.ipynb\" target=\"_parent\"><img src=\"https://colab.research.google.com/assets/colab-badge.svg\" alt=\"Open In Colab\"/></a>"
      ]
    },
    {
      "cell_type": "markdown",
      "metadata": {
        "id": "iSP8-KBNIqug"
      },
      "source": [
        "## *Pandas DataFrame*으로 CSV 파일을 읽어서 정규화를 마친 뒤 DB에 테이블로 올린다.\n",
        "  * CSV파일 경로 : /content/drive/MyDrice/Colab Notebooks/NAVER SHOPPING/CSVs"
      ]
    },
    {
      "cell_type": "code",
      "metadata": {
        "id": "z4fWlAMxHsfp"
      },
      "source": [
        "import pandas as pd"
      ],
      "execution_count": null,
      "outputs": []
    },
    {
      "cell_type": "code",
      "metadata": {
        "colab": {
          "base_uri": "https://localhost:8080/",
          "height": 566
        },
        "id": "ArfU58x3Il5_",
        "outputId": "853c29ce-0c7f-4ea5-895d-746024344c12"
      },
      "source": [
        "apparel_f_blouseNshirts = pd.read_csv('/content/drive/MyDrive/Colab Notebooks/nv_shppng/CSVs/apparel_f_blouse&shirts.csv', header=None, names=list(['category_id','category_title','subcategory_title','subsubcategory_title','item_mid','rank','item_title','item_price','item_brand','item_regdate']))\n",
        "apparel_f_tshirts = pd.read_csv('/content/drive/MyDrive/Colab Notebooks/nv_shppng/CSVs/apparel_f_tshirts.csv', header=None, names=list(['category_id','category_title','subcategory_title','subsubcategory_title','item_mid','rank','item_title','item_price','item_brand','item_regdate']))\n",
        "apparel_f_cardigan = pd.read_csv('/content/drive/MyDrive/Colab Notebooks/nv_shppng/CSVs/apparel_f_cardigan.csv', header=None, names=list(['category_id','category_title','subcategory_title','subsubcategory_title','item_mid','rank','item_title','item_price','item_brand','item_regdate']))\n",
        "apparel_f_knitNsweater = pd.read_csv('/content/drive/MyDrive/Colab Notebooks/nv_shppng/CSVs/apparel_f_knit&sweater.csv', header=None, names=list(['category_id','category_title','subcategory_title','subsubcategory_title','item_mid','rank','item_title','item_price','item_brand','item_regdate']))\n",
        "apparel_f_onepiece = pd.read_csv('/content/drive/MyDrive/Colab Notebooks/nv_shppng/CSVs/apparel_f_onepiece.csv', header=None, names=list(['category_id','category_title','subcategory_title','subsubcategory_title','item_mid','rank','item_title','item_price','item_brand','item_regdate']))\n",
        "\n",
        "# apparel_f_blouseNshirts\n",
        "# apparel_f_tshirts\n",
        "# apparel_f_cardigan\n",
        "# apparel_f_knitNsweater\n",
        "apparel_f_onepiece\n"
      ],
      "execution_count": null,
      "outputs": [
        {
          "output_type": "execute_result",
          "data": {
            "text/html": [
              "<div>\n",
              "<style scoped>\n",
              "    .dataframe tbody tr th:only-of-type {\n",
              "        vertical-align: middle;\n",
              "    }\n",
              "\n",
              "    .dataframe tbody tr th {\n",
              "        vertical-align: top;\n",
              "    }\n",
              "\n",
              "    .dataframe thead th {\n",
              "        text-align: right;\n",
              "    }\n",
              "</style>\n",
              "<table border=\"1\" class=\"dataframe\">\n",
              "  <thead>\n",
              "    <tr style=\"text-align: right;\">\n",
              "      <th></th>\n",
              "      <th>category_id</th>\n",
              "      <th>category_title</th>\n",
              "      <th>subcategory_title</th>\n",
              "      <th>subsubcategory_title</th>\n",
              "      <th>item_mid</th>\n",
              "      <th>rank</th>\n",
              "      <th>item_title</th>\n",
              "      <th>item_price</th>\n",
              "      <th>item_brand</th>\n",
              "      <th>item_regdate</th>\n",
              "    </tr>\n",
              "  </thead>\n",
              "  <tbody>\n",
              "    <tr>\n",
              "      <th>0</th>\n",
              "      <td>100103</td>\n",
              "      <td>패션의류</td>\n",
              "      <td>여성의류</td>\n",
              "      <td>원피스</td>\n",
              "      <td>26529359698</td>\n",
              "      <td>1</td>\n",
              "      <td>아디다스 여성용 티 드레스 GN2777</td>\n",
              "      <td>30067</td>\n",
              "      <td>아디다스</td>\n",
              "      <td>2021-03</td>\n",
              "    </tr>\n",
              "    <tr>\n",
              "      <th>1</th>\n",
              "      <td>100103</td>\n",
              "      <td>패션의류</td>\n",
              "      <td>여성의류</td>\n",
              "      <td>원피스</td>\n",
              "      <td>23922215568</td>\n",
              "      <td>2</td>\n",
              "      <td>임부복 심플 루즈핏 지지미 린넨 코튼면 반팔 여름 임부 롱원피스</td>\n",
              "      <td>12300</td>\n",
              "      <td>NaN</td>\n",
              "      <td>2020-08</td>\n",
              "    </tr>\n",
              "    <tr>\n",
              "      <th>2</th>\n",
              "      <td>100103</td>\n",
              "      <td>패션의류</td>\n",
              "      <td>여성의류</td>\n",
              "      <td>원피스</td>\n",
              "      <td>22032561763</td>\n",
              "      <td>3</td>\n",
              "      <td>라코스테 벨티드 피케 원피스 EF5471</td>\n",
              "      <td>68000</td>\n",
              "      <td>라코스테</td>\n",
              "      <td>2020-02</td>\n",
              "    </tr>\n",
              "    <tr>\n",
              "      <th>3</th>\n",
              "      <td>100103</td>\n",
              "      <td>패션의류</td>\n",
              "      <td>여성의류</td>\n",
              "      <td>원피스</td>\n",
              "      <td>26549206373</td>\n",
              "      <td>4</td>\n",
              "      <td>써스데이아일랜드 프릴 반팔 소매 원피스 T214MOP253W</td>\n",
              "      <td>181810</td>\n",
              "      <td>써스데이아일랜드</td>\n",
              "      <td>2021-03</td>\n",
              "    </tr>\n",
              "    <tr>\n",
              "      <th>4</th>\n",
              "      <td>100103</td>\n",
              "      <td>패션의류</td>\n",
              "      <td>여성의류</td>\n",
              "      <td>원피스</td>\n",
              "      <td>26713638817</td>\n",
              "      <td>5</td>\n",
              "      <td>플라스틱아일랜드 변형 카라 원피스 PM2WO403</td>\n",
              "      <td>47225</td>\n",
              "      <td>플라스틱아일랜드</td>\n",
              "      <td>2021-04</td>\n",
              "    </tr>\n",
              "    <tr>\n",
              "      <th>...</th>\n",
              "      <td>...</td>\n",
              "      <td>...</td>\n",
              "      <td>...</td>\n",
              "      <td>...</td>\n",
              "      <td>...</td>\n",
              "      <td>...</td>\n",
              "      <td>...</td>\n",
              "      <td>...</td>\n",
              "      <td>...</td>\n",
              "      <td>...</td>\n",
              "    </tr>\n",
              "    <tr>\n",
              "      <th>95</th>\n",
              "      <td>100103</td>\n",
              "      <td>패션의류</td>\n",
              "      <td>여성의류</td>\n",
              "      <td>원피스</td>\n",
              "      <td>26703336286</td>\n",
              "      <td>96</td>\n",
              "      <td>쥬시쥬디 J배색 빅카라 플리츠 원피스 JVOP326M</td>\n",
              "      <td>119560</td>\n",
              "      <td>쥬시쥬디</td>\n",
              "      <td>2021-04</td>\n",
              "    </tr>\n",
              "    <tr>\n",
              "      <th>96</th>\n",
              "      <td>100103</td>\n",
              "      <td>패션의류</td>\n",
              "      <td>여성의류</td>\n",
              "      <td>원피스</td>\n",
              "      <td>23216042207</td>\n",
              "      <td>97</td>\n",
              "      <td>지컷 언발란스 쿨 원피스 7250337005</td>\n",
              "      <td>99085</td>\n",
              "      <td>지컷</td>\n",
              "      <td>2020-06</td>\n",
              "    </tr>\n",
              "    <tr>\n",
              "      <th>97</th>\n",
              "      <td>100103</td>\n",
              "      <td>패션의류</td>\n",
              "      <td>여성의류</td>\n",
              "      <td>원피스</td>\n",
              "      <td>27049469671</td>\n",
              "      <td>98</td>\n",
              "      <td>플라스틱아일랜드 티어드 시어서커 원피스 PM2WO567</td>\n",
              "      <td>48350</td>\n",
              "      <td>플라스틱아일랜드</td>\n",
              "      <td>2021-05</td>\n",
              "    </tr>\n",
              "    <tr>\n",
              "      <th>98</th>\n",
              "      <td>100103</td>\n",
              "      <td>패션의류</td>\n",
              "      <td>여성의류</td>\n",
              "      <td>원피스</td>\n",
              "      <td>26639035716</td>\n",
              "      <td>99</td>\n",
              "      <td>TOMBOY 원포켓린넨원피스 9171241991</td>\n",
              "      <td>79030</td>\n",
              "      <td>NaN</td>\n",
              "      <td>2021-04</td>\n",
              "    </tr>\n",
              "    <tr>\n",
              "      <th>99</th>\n",
              "      <td>100103</td>\n",
              "      <td>패션의류</td>\n",
              "      <td>여성의류</td>\n",
              "      <td>원피스</td>\n",
              "      <td>23090094690</td>\n",
              "      <td>100</td>\n",
              "      <td>듀엘 DEWL 언발란스 카라 원피스 L202PSE066</td>\n",
              "      <td>98700</td>\n",
              "      <td>듀엘</td>\n",
              "      <td>2020-06</td>\n",
              "    </tr>\n",
              "  </tbody>\n",
              "</table>\n",
              "<p>100 rows × 10 columns</p>\n",
              "</div>"
            ],
            "text/plain": [
              "    category_id category_title  ... item_brand item_regdate\n",
              "0        100103           패션의류  ...       아디다스      2021-03\n",
              "1        100103           패션의류  ...        NaN      2020-08\n",
              "2        100103           패션의류  ...       라코스테      2020-02\n",
              "3        100103           패션의류  ...   써스데이아일랜드      2021-03\n",
              "4        100103           패션의류  ...   플라스틱아일랜드      2021-04\n",
              "..          ...            ...  ...        ...          ...\n",
              "95       100103           패션의류  ...       쥬시쥬디      2021-04\n",
              "96       100103           패션의류  ...         지컷      2020-06\n",
              "97       100103           패션의류  ...   플라스틱아일랜드      2021-05\n",
              "98       100103           패션의류  ...        NaN      2021-04\n",
              "99       100103           패션의류  ...         듀엘      2020-06\n",
              "\n",
              "[100 rows x 10 columns]"
            ]
          },
          "metadata": {
            "tags": []
          },
          "execution_count": 20
        }
      ]
    },
    {
      "cell_type": "code",
      "metadata": {
        "id": "1L66YU71ImRI"
      },
      "source": [
        "apparel_f_onepiece_categoryTbl = apparel_f_onepiece[['category_id','category_title','subcategory_title','subsubcategory_title']]\n",
        "apparel_f_onepiece_itemTbl = apparel_f_onepiece[['item_mid','item_title','item_price','item_brand','item_regdate']]\n",
        "apparel_f_cardigan_categoryTbl = apparel_f_cardigan[['category_id','category_title','subcategory_title','subsubcategory_title']]\n",
        "apparel_f_cardigan_itemTbl = apparel_f_cardigan[['item_mid','item_title','item_price','item_brand','item_regdate']]\n",
        "apparel_f_knitNsweater_categoryTbl = apparel_f_knitNsweater[['category_id','category_title','subcategory_title','subsubcategory_title']]\n",
        "apparel_f_knitNsweater_itemTbl = apparel_f_knitNsweater[['item_mid','item_title','item_price','item_brand','item_regdate']]\n",
        "apparel_f_tshirts_categoryTbl = apparel_f_tshirts[['category_id','category_title','subcategory_title','subsubcategory_title']]\n",
        "apparel_f_tshirts_itemTbl = apparel_f_tshirts[['item_mid','item_title','item_price','item_brand','item_regdate']]\n",
        "apparel_f_blouseNshirts_categoryTbl = apparel_f_blouseNshirts[['category_id','category_title','subcategory_title','subsubcategory_title']]\n",
        "apparel_f_blouseNshirts_itemTbl = apparel_f_blouseNshirts[['item_mid','item_title','item_price','item_brand','item_regdate']]\n",
        "\n",
        "\n",
        "## df.to_csv로 내보낼 때는 컬럼 헤더를 제거하고 내보내야 한다. DB 테이블을 먼저 모델링 한 뒤에 레코드만 입력할 거니까."
      ],
      "execution_count": null,
      "outputs": []
    },
    {
      "cell_type": "code",
      "metadata": {
        "id": "OOWs3LDzUfxf"
      },
      "source": [
        "### 각 세부카테고리의 전체 데이터를 category_Tbl, item_Tbl로 정규화한 뒤 csv파일로 저장함.\n",
        "### mode = 'w'이고 index와 header는 제외하고 저장하기 위해 각각 None 부여함.\n",
        "\n",
        "apparel_f_blouseNshirts_categoryTbl.to_csv('/content/drive/MyDrive/Colab Notebooks/nv_shppng/CSVs/normalized_Tbl/apparel_f_blouseNshirts_categoryTbl.csv', mode='w', index=False, header=False)\n",
        "apparel_f_blouseNshirts_itemTbl.to_csv('/content/drive/MyDrive/Colab Notebooks/nv_shppng/CSVs/normalized_Tbl/apparel_f_blouseNshirts_itemTbl.csv', mode='w', index=False, header=False)\n",
        "apparel_f_tshirts_categoryTbl.to_csv('/content/drive/MyDrive/Colab Notebooks/nv_shppng/CSVs/normalized_Tbl/apparel_f_tshirts_categoryTbl.csv', mode='w', index=False, header=False)\n",
        "apparel_f_tshirts_itemTbl.to_csv('/content/drive/MyDrive/Colab Notebooks/nv_shppng/CSVs/normalized_Tbl/apparel_f_tshirts_itemTbl.csv', mode='w', index=False, header=False)\n",
        "apparel_f_cardigan_categoryTbl.to_csv('/content/drive/MyDrive/Colab Notebooks/nv_shppng/CSVs/normalized_Tbl/apparel_f_cardigan_categoryTbl.csv', mode='w', index=False, header=False)\n",
        "apparel_f_cardigan_itemTbl.to_csv('/content/drive/MyDrive/Colab Notebooks/nv_shppng/CSVs/normalized_Tbl/apparel_f_cardigan_itemTbl.csv', mode='w', index=False, header=False)\n",
        "apparel_f_onepiece_categoryTbl.to_csv('/content/drive/MyDrive/Colab Notebooks/nv_shppng/CSVs/normalized_Tbl/apparel_f_onepiece_categoryTbl.csv', mode='w', index=False, header=False)\n",
        "apparel_f_onepiece_itemTbl.to_csv('/content/drive/MyDrive/Colab Notebooks/nv_shppng/CSVs/normalized_Tbl/apparel_f_onepiece_itemTbl.csv', mode='w', index=False, header=False)"
      ],
      "execution_count": null,
      "outputs": []
    },
    {
      "cell_type": "code",
      "metadata": {
        "colab": {
          "base_uri": "https://localhost:8080/",
          "height": 410
        },
        "id": "YZn_Ay3YImat",
        "outputId": "17385108-7136-42fe-eec7-49b7651bfa6d"
      },
      "source": [
        "apparel_f_blouseNshirts_categoryTbl "
      ],
      "execution_count": null,
      "outputs": [
        {
          "output_type": "execute_result",
          "data": {
            "text/html": [
              "<div>\n",
              "<style scoped>\n",
              "    .dataframe tbody tr th:only-of-type {\n",
              "        vertical-align: middle;\n",
              "    }\n",
              "\n",
              "    .dataframe tbody tr th {\n",
              "        vertical-align: top;\n",
              "    }\n",
              "\n",
              "    .dataframe thead th {\n",
              "        text-align: right;\n",
              "    }\n",
              "</style>\n",
              "<table border=\"1\" class=\"dataframe\">\n",
              "  <thead>\n",
              "    <tr style=\"text-align: right;\">\n",
              "      <th></th>\n",
              "      <th>category_id</th>\n",
              "      <th>category_title</th>\n",
              "      <th>subcategory_title</th>\n",
              "      <th>subsubcategory_title</th>\n",
              "    </tr>\n",
              "  </thead>\n",
              "  <tbody>\n",
              "    <tr>\n",
              "      <th>0</th>\n",
              "      <td>100105</td>\n",
              "      <td>패션의류</td>\n",
              "      <td>여성의류</td>\n",
              "      <td>블라우스;셔츠</td>\n",
              "    </tr>\n",
              "    <tr>\n",
              "      <th>1</th>\n",
              "      <td>100105</td>\n",
              "      <td>패션의류</td>\n",
              "      <td>여성의류</td>\n",
              "      <td>블라우스;셔츠</td>\n",
              "    </tr>\n",
              "    <tr>\n",
              "      <th>2</th>\n",
              "      <td>100105</td>\n",
              "      <td>패션의류</td>\n",
              "      <td>여성의류</td>\n",
              "      <td>블라우스;셔츠</td>\n",
              "    </tr>\n",
              "    <tr>\n",
              "      <th>3</th>\n",
              "      <td>100105</td>\n",
              "      <td>패션의류</td>\n",
              "      <td>여성의류</td>\n",
              "      <td>블라우스;셔츠</td>\n",
              "    </tr>\n",
              "    <tr>\n",
              "      <th>4</th>\n",
              "      <td>100105</td>\n",
              "      <td>패션의류</td>\n",
              "      <td>여성의류</td>\n",
              "      <td>블라우스;셔츠</td>\n",
              "    </tr>\n",
              "    <tr>\n",
              "      <th>...</th>\n",
              "      <td>...</td>\n",
              "      <td>...</td>\n",
              "      <td>...</td>\n",
              "      <td>...</td>\n",
              "    </tr>\n",
              "    <tr>\n",
              "      <th>95</th>\n",
              "      <td>100105</td>\n",
              "      <td>패션의류</td>\n",
              "      <td>여성의류</td>\n",
              "      <td>블라우스;셔츠</td>\n",
              "    </tr>\n",
              "    <tr>\n",
              "      <th>96</th>\n",
              "      <td>100105</td>\n",
              "      <td>패션의류</td>\n",
              "      <td>여성의류</td>\n",
              "      <td>블라우스;셔츠</td>\n",
              "    </tr>\n",
              "    <tr>\n",
              "      <th>97</th>\n",
              "      <td>100105</td>\n",
              "      <td>패션의류</td>\n",
              "      <td>여성의류</td>\n",
              "      <td>블라우스;셔츠</td>\n",
              "    </tr>\n",
              "    <tr>\n",
              "      <th>98</th>\n",
              "      <td>100105</td>\n",
              "      <td>패션의류</td>\n",
              "      <td>여성의류</td>\n",
              "      <td>블라우스;셔츠</td>\n",
              "    </tr>\n",
              "    <tr>\n",
              "      <th>99</th>\n",
              "      <td>100105</td>\n",
              "      <td>패션의류</td>\n",
              "      <td>여성의류</td>\n",
              "      <td>블라우스;셔츠</td>\n",
              "    </tr>\n",
              "  </tbody>\n",
              "</table>\n",
              "<p>100 rows × 4 columns</p>\n",
              "</div>"
            ],
            "text/plain": [
              "    category_id category_title subcategory_title subsubcategory_title\n",
              "0        100105           패션의류              여성의류              블라우스;셔츠\n",
              "1        100105           패션의류              여성의류              블라우스;셔츠\n",
              "2        100105           패션의류              여성의류              블라우스;셔츠\n",
              "3        100105           패션의류              여성의류              블라우스;셔츠\n",
              "4        100105           패션의류              여성의류              블라우스;셔츠\n",
              "..          ...            ...               ...                  ...\n",
              "95       100105           패션의류              여성의류              블라우스;셔츠\n",
              "96       100105           패션의류              여성의류              블라우스;셔츠\n",
              "97       100105           패션의류              여성의류              블라우스;셔츠\n",
              "98       100105           패션의류              여성의류              블라우스;셔츠\n",
              "99       100105           패션의류              여성의류              블라우스;셔츠\n",
              "\n",
              "[100 rows x 4 columns]"
            ]
          },
          "metadata": {
            "tags": []
          },
          "execution_count": 29
        }
      ]
    },
    {
      "cell_type": "code",
      "metadata": {
        "id": "aUPb8-6IImkc"
      },
      "source": [
        ""
      ],
      "execution_count": null,
      "outputs": []
    },
    {
      "cell_type": "code",
      "metadata": {
        "id": "5fxSVCjJImtX"
      },
      "source": [
        ""
      ],
      "execution_count": null,
      "outputs": []
    },
    {
      "cell_type": "code",
      "metadata": {
        "id": "h_FuqTUXIm2g"
      },
      "source": [
        ""
      ],
      "execution_count": null,
      "outputs": []
    },
    {
      "cell_type": "code",
      "metadata": {
        "id": "sSzHtJb3InAB"
      },
      "source": [
        ""
      ],
      "execution_count": null,
      "outputs": []
    }
  ]
}